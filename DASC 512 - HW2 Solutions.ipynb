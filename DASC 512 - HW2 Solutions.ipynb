{
 "cells": [
  {
   "cell_type": "markdown",
   "id": "bc269e2a",
   "metadata": {},
   "source": [
    "The only part where I used Python was 3b-c."
   ]
  },
  {
   "cell_type": "markdown",
   "id": "d2f3d08c",
   "metadata": {},
   "source": [
    "# Problem 3b"
   ]
  },
  {
   "cell_type": "code",
   "execution_count": 1,
   "id": "b3eaa0da",
   "metadata": {},
   "outputs": [],
   "source": [
    "import numpy as np"
   ]
  },
  {
   "cell_type": "markdown",
   "id": "f0bd8851",
   "metadata": {},
   "source": [
    "This is often the choice (and it was my first thought too), but it allows for duplicates in the sample. This could be remedied by re-sampling if there are duplicates."
   ]
  },
  {
   "cell_type": "code",
   "execution_count": 2,
   "id": "fee049cd",
   "metadata": {},
   "outputs": [
    {
     "data": {
      "text/plain": [
       "array([4775, 1936,  516,  608, 4301, 2594,  836, 5310, 2073, 1592])"
      ]
     },
     "execution_count": 2,
     "metadata": {},
     "output_type": "execute_result"
    }
   ],
   "source": [
    "# Note: This will allow for duplicates, so this isn't the ideal solution\n",
    "np.random.randint(low=1, high=5383, size=10)"
   ]
  },
  {
   "cell_type": "markdown",
   "id": "51cb17e2",
   "metadata": {},
   "source": [
    "A better method is to sample either from Pandas or the random library:"
   ]
  },
  {
   "cell_type": "code",
   "execution_count": 3,
   "id": "9629ac63",
   "metadata": {},
   "outputs": [],
   "source": [
    "import pandas as pd"
   ]
  },
  {
   "cell_type": "code",
   "execution_count": 4,
   "id": "2440541b",
   "metadata": {},
   "outputs": [],
   "source": [
    "ser = pd.Series(range(1,5383))"
   ]
  },
  {
   "cell_type": "code",
   "execution_count": 5,
   "id": "aff959c7",
   "metadata": {
    "scrolled": true
   },
   "outputs": [
    {
     "data": {
      "text/plain": [
       "array([1236,  360, 4739, 2614,  659,   85, 4034, 1837, 1693, 3387],\n",
       "      dtype=int64)"
      ]
     },
     "execution_count": 5,
     "metadata": {},
     "output_type": "execute_result"
    }
   ],
   "source": [
    "ser.sample(10).values"
   ]
  },
  {
   "cell_type": "code",
   "execution_count": 2,
   "id": "23f7dc90",
   "metadata": {},
   "outputs": [
    {
     "data": {
      "text/plain": [
       "[1242, 5377, 4764, 3913, 1924, 1800, 883, 1306, 3543, 1331]"
      ]
     },
     "execution_count": 2,
     "metadata": {},
     "output_type": "execute_result"
    }
   ],
   "source": [
    "# Or using random.sample\n",
    "import random\n",
    "random.sample(range(1,5383),10)"
   ]
  },
  {
   "cell_type": "code",
   "execution_count": 7,
   "id": "0245fa9a",
   "metadata": {},
   "outputs": [
    {
     "data": {
      "text/plain": [
       "['2288',\n",
       " '1629',\n",
       " '1392',\n",
       " '0575',\n",
       " '0615',\n",
       " '1988',\n",
       " '1339',\n",
       " '1696',\n",
       " '1959',\n",
       " '4692']"
      ]
     },
     "execution_count": 7,
     "metadata": {},
     "output_type": "execute_result"
    }
   ],
   "source": [
    "# To be complete and have a four digit number...\n",
    "samp = random.sample(range(1,5383),10)\n",
    "str_samp = [f'{num:0>4}' for num in samp]\n",
    "str_samp"
   ]
  },
  {
   "cell_type": "markdown",
   "id": "7cde2984",
   "metadata": {},
   "source": [
    "# Problem 3c"
   ]
  },
  {
   "cell_type": "code",
   "execution_count": 12,
   "id": "51b83b09",
   "metadata": {},
   "outputs": [],
   "source": [
    "import math"
   ]
  },
  {
   "cell_type": "code",
   "execution_count": 14,
   "id": "e4c7f491",
   "metadata": {
    "scrolled": true
   },
   "outputs": [
    {
     "data": {
      "text/plain": [
       "1.7945661094105869e-31"
      ]
     },
     "execution_count": 14,
     "metadata": {},
     "output_type": "execute_result"
    }
   ],
   "source": [
    "1/math.comb(5382,10)"
   ]
  }
 ],
 "metadata": {
  "kernelspec": {
   "display_name": "Python 3 (ipykernel)",
   "language": "python",
   "name": "python3"
  },
  "language_info": {
   "codemirror_mode": {
    "name": "ipython",
    "version": 3
   },
   "file_extension": ".py",
   "mimetype": "text/x-python",
   "name": "python",
   "nbconvert_exporter": "python",
   "pygments_lexer": "ipython3",
   "version": "3.8.12"
  }
 },
 "nbformat": 4,
 "nbformat_minor": 5
}
